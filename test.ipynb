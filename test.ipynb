{
 "cells": [
  {
   "cell_type": "code",
   "execution_count": null,
   "metadata": {},
   "outputs": [],
   "source": [
    "import numpy as np\n",
    "import pandas as pd\n",
    "from matplotlib import pyplot as plt\n",
    "import CoolProp\n",
    "import CoolProp.CoolProp as cp"
   ]
  },
  {
   "cell_type": "code",
   "execution_count": null,
   "metadata": {},
   "outputs": [],
   "source": [
    "print('CoolProp version: ', CoolProp.__version__)\n",
    "print('CoolProp fluids: ', CoolProp.__fluids__)"
   ]
  },
  {
   "attachments": {},
   "cell_type": "markdown",
   "metadata": {},
   "source": [
    "LPS props \n",
    "Pressure: 3.5 kg\n",
    "Temperature: 150 degree \n",
    "Flow rate : 153981 kg/hr"
   ]
  },
  {
   "cell_type": "code",
   "execution_count": null,
   "metadata": {},
   "outputs": [],
   "source": [
    "flow = 153981.0 #kg/hr\n",
    "pressure = 3.5 #kscg\n",
    "temperature = 150 #Deg C\n",
    "pipe_size = 36 #inch"
   ]
  },
  {
   "cell_type": "code",
   "execution_count": null,
   "metadata": {},
   "outputs": [],
   "source": [
    "def velocity(pressure:float, temperature:float, flow:float, pipe_size:float):\n",
    "    t = temperature + 273.15\n",
    "    p = (98066.5 * pressure) + 101325\n",
    "    \n",
    "    den = cp.PropsSI('D', 'T', t, 'P', p, 'PR::Water')\n",
    "    visc = cp.PropsSI('V', 'T', t, 'P', p, 'Water')\n",
    "\n",
    "    flowrate = (flow / 3600) / den\n",
    "    print(\"Volumetric flowrate --> %5.3f m3/s\" %(flowrate))\n",
    "    print(\"Density --> %5.3f kg/m3\" %(den))\n",
    "    dia = pipe_size * 0.0254\n",
    "    area = np.pi * 0.25 * dia**2\n",
    "    vel = flowrate/area\n",
    "    print(\"Velocity in %3.2f\\\" line is %5.3f m/s\" %(pipe_size, vel))\n",
    "    return vel, den, visc"
   ]
  },
  {
   "cell_type": "code",
   "execution_count": null,
   "metadata": {},
   "outputs": [],
   "source": [
    "#original size\n",
    "ans = velocity(pressure, temperature, flow, pipe_size)\n",
    "re = pipe_size * 0.0254 * ans[0] * ans[1] / ans[2]\n",
    "re\n",
    "\n",
    "#scaled down factor\n",
    "ans = velocity(pressure, temperature, flow/10, pipe_size/10)\n",
    "re_n = (pipe_size/10) * 0.0254 * ans[0] * ans[1] / ans[2]\n",
    "target = re_n/re\n",
    "target"
   ]
  },
  {
   "attachments": {},
   "cell_type": "markdown",
   "metadata": {},
   "source": [
    "## chat gpt ans\n",
    "\n",
    "At 140°C and 5 bar pressure, the steam tables indicate that the steam is in the saturated region, \n",
    "which means that it contains both vapor and liquid water.\n",
    "\n",
    "The steam quality, or dryness fraction, at this condition would depend on how much liquid water is present in the steam. \n",
    "If the steam is completely dry and contains no liquid water, the steam quality would be 100%. However, \n",
    "if the steam contains some liquid water, the steam quality would be less than 100%.\n",
    "\n",
    "Using the steam tables, we can find that at 140°C and 5 bar, the saturation temperature is 140.67°C. \n",
    "The steam tables also provide the value of specific volume for saturated steam at this condition, which is 0.2364 m³/kg.\n",
    "\n",
    "Assuming that the steam is saturated and contains both vapor and liquid water, we can use the definition of steam quality:\n",
    "\n",
    "steam quality = (mass of vapor) / (total mass of mixture)\n",
    "\n",
    "We can also use the definition of specific volume to relate the mass of vapor and liquid:\n",
    "\n",
    "specific volume = (mass of vapor) x (specific volume of vapor) + (mass of liquid) x (specific volume of liquid)\n",
    "\n",
    "At saturated conditions, the specific volume of liquid water is much smaller than that of vapor, \n",
    "so we can simplify the equation to:\n",
    "\n",
    "specific volume ≈ (mass of vapor) x (specific volume of vapor)\n",
    "\n",
    "Rearranging and solving for the mass of vapor, we get:\n",
    "\n",
    "(mass of vapor) = specific volume / (specific volume of vapor)\n",
    "\n",
    "(mass of vapor) = 0.2364 m³/kg / 1.696 m³/kg (specific volume of saturated vapor at 140°C and 5 bar from the steam tables)\n",
    "\n",
    "(mass of vapor) = 0.1394 kg vapor/kg mixture\n",
    "\n",
    "Therefore, the steam quality at 140°C and 5 bar would be:\n",
    "\n",
    "steam quality = (mass of vapor) / (total mass of mixture)\n",
    "\n",
    "steam quality = 0.1394 kg vapor/kg mixture / (1 kg vapor/kg mixture + (1-0.1394) kg liquid/kg mixture)\n",
    "\n",
    "steam quality = 0.486 or approximately 48.6%\n",
    "\n",
    "This means that at 140°C and 5 bar, the steam is saturated and contains both vapor and liquid water, \n",
    "with a steam quality of 48.6%, or a moisture content of 51.4%.\n",
    "\n",
    "\n",
    "\n",
    "## what is specific volume of steam at 140 deg C and 5 bar\n",
    "\n",
    "The specific volume of steam at 140°C and 5 bar can be determined using steam tables or steam property calculators.\n",
    "\n",
    "Using steam tables, the specific volume of steam at 140°C and 5 bar is approximately 0.3636 m^3/kg.\n",
    "\n",
    "It's important to note that the specific volume of steam varies with pressure and temperature, so if the conditions change, the specific volume will also change."
   ]
  },
  {
   "cell_type": "code",
   "execution_count": null,
   "metadata": {},
   "outputs": [],
   "source": [
    "#1/cp.PropsSI('D', 'T', 140+273.15, 'P', 5*100000, 'Water')\n",
    "1/cp.PropsSI('D', 'T', 1, 'P', 5*100000 + 101325, 'Water')"
   ]
  },
  {
   "cell_type": "code",
   "execution_count": null,
   "metadata": {},
   "outputs": [],
   "source": [
    "# atm pressure calc\n",
    "\n",
    "def atm_pres(h:float):\n",
    "    # h = 1 # Height above mean sea level\t m\n",
    "    p0 = 101325 # pa\n",
    "    R = 8.314462618 # J/(mol·K)\n",
    "    g = 9.80665 # m/s2\n",
    "    t0 = 15 + 273.15 # K\n",
    "    cp = 1004.68506 # J/(kg·K)\n",
    "    M = 0.02896968 # kg/mol\n",
    "    L = g/cp\n",
    "\n",
    "    power = (g*M)/(R*L)\n",
    "    base = 1 - ((L*h)/t0)\n",
    "\n",
    "    p = p0 * base**power\n",
    "    return p\n",
    "\n",
    "atm_pres(0)"
   ]
  },
  {
   "cell_type": "code",
   "execution_count": null,
   "metadata": {},
   "outputs": [],
   "source": [
    "hs = np.linspace(1,10000,10000)\n",
    "ps = np.zeros(10000)\n",
    "ps = atm_pres(hs)\n",
    "\n",
    "plt.plot(hs,ps)"
   ]
  },
  {
   "attachments": {},
   "cell_type": "markdown",
   "metadata": {},
   "source": [
    "## Below is the root finder from scipy, more to learn on optimization techniques"
   ]
  },
  {
   "cell_type": "code",
   "execution_count": null,
   "metadata": {},
   "outputs": [],
   "source": [
    "from scipy import optimize as op\n",
    "\n",
    "C1 = 73.649\n",
    "C2 = -7258.2\n",
    "C3 = -7.3037\n",
    "C4 = 4.17E-06\n",
    "C5 = 2\n",
    "P = 4601325\n",
    "\n",
    "def f(T):\n",
    "    return P - np.exp(C1+(C2/T)+(C3*np.log(T))+(C4*(T**C5)))\n",
    "\n",
    "print(f(350.0))\n",
    "res = op.root_scalar(f, bracket=[273.15, 800], method='brentq')\n",
    "res.root - 273.15"
   ]
  },
  {
   "attachments": {},
   "cell_type": "markdown",
   "metadata": {},
   "source": [
    "[yt video](https://youtu.be/cXHvC_FGx24)\n",
    "[ap monitor](http://apmonitor.com/pdc/index.php/Main/NonlinearProgramming)"
   ]
  },
  {
   "cell_type": "code",
   "execution_count": null,
   "metadata": {},
   "outputs": [],
   "source": [
    "def objective(x):\n",
    "    return x[0]*x[3]*(x[0]+x[1]+x[2])+x[3]\n",
    "\n",
    "def constrain1(x):\n",
    "    t=1.0\n",
    "    for y in x:\n",
    "        t=t*y\n",
    "    return t-25.0\n",
    "\n",
    "def constrain2(x):\n",
    "    t=-40.0\n",
    "    for y in x:\n",
    "        t=t+y**2\n",
    "    return t\n",
    "\n",
    "x0=[1,5,5,1]\n",
    "b=(1.0,5.0)\n",
    "bnds=(b,b,b,b)\n",
    "\n",
    "cons1 = {'type': 'ineq', 'fun': constrain1}\n",
    "cons2 = {'type': 'eq', 'fun': constrain2}\n",
    "cons = [cons1, cons2]\n",
    "\n",
    "sol=op.minimize(objective,x0,method='SLSQP',bounds=bnds,constraints=cons)\n",
    "print(sol)"
   ]
  }
 ],
 "metadata": {
  "kernelspec": {
   "display_name": "py_latest",
   "language": "python",
   "name": "python3"
  },
  "language_info": {
   "codemirror_mode": {
    "name": "ipython",
    "version": 3
   },
   "file_extension": ".py",
   "mimetype": "text/x-python",
   "name": "python",
   "nbconvert_exporter": "python",
   "pygments_lexer": "ipython3",
   "version": "3.11.0"
  },
  "orig_nbformat": 4,
  "vscode": {
   "interpreter": {
    "hash": "93e3d0542d8783736dbabac68362331cb1f2aa6627baab50247b07470e4502f3"
   }
  }
 },
 "nbformat": 4,
 "nbformat_minor": 2
}
