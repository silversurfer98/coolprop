{
 "cells": [
  {
   "cell_type": "code",
   "execution_count": null,
   "metadata": {},
   "outputs": [],
   "source": [
    "import numpy as np\n",
    "import pandas as pd\n",
    "import CoolProp\n",
    "import CoolProp.CoolProp as cp"
   ]
  },
  {
   "cell_type": "code",
   "execution_count": null,
   "metadata": {},
   "outputs": [],
   "source": [
    "print('CoolProp version: ', CoolProp.__version__)\n",
    "print('CoolProp fluids: ', CoolProp.__fluids__)"
   ]
  },
  {
   "attachments": {},
   "cell_type": "markdown",
   "metadata": {},
   "source": [
    "LPS props \n",
    "Pressure: 3.5 kg\n",
    "Temperature: 150 degree \n",
    "Flow rate : 153981 kg/hr"
   ]
  },
  {
   "cell_type": "code",
   "execution_count": null,
   "metadata": {},
   "outputs": [],
   "source": [
    "flow = 153981.0 #kg/hr\n",
    "pressure = 3.5 #kscg\n",
    "temperature = 150 #Deg C\n",
    "pipe_size = 36 #inch"
   ]
  },
  {
   "cell_type": "code",
   "execution_count": null,
   "metadata": {},
   "outputs": [],
   "source": [
    "def velocity(pressure:float, temperature:float, flow:float, pipe_size:float):\n",
    "    t = temperature + 273.15\n",
    "    p = (98066.5 * pressure) + 101325\n",
    "    \n",
    "    den = cp.PropsSI('D', 'T', t, 'P', p, 'PR::Water')\n",
    "    visc = cp.PropsSI('V', 'T', t, 'P', p, 'Water')\n",
    "\n",
    "    flowrate = (flow / 3600) / den\n",
    "    print(\"Volumetric flowrate --> %5.3f m3/s\" %(flowrate))\n",
    "    print(\"Density --> %5.3f kg/m3\" %(den))\n",
    "    dia = pipe_size * 0.0254\n",
    "    area = np.pi * 0.25 * dia**2\n",
    "    vel = flowrate/area\n",
    "    print(\"Velocity in %3.2f\\\" line is %5.3f m/s\" %(pipe_size, vel))\n",
    "    return vel, den, visc"
   ]
  },
  {
   "cell_type": "code",
   "execution_count": null,
   "metadata": {},
   "outputs": [],
   "source": [
    "#original size\n",
    "ans = velocity(pressure, temperature, flow, pipe_size)\n",
    "re = pipe_size * 0.0254 * ans[0] * ans[1] / ans[2]\n",
    "re\n",
    "\n",
    "#scaled down factor\n",
    "ans = velocity(pressure, temperature, flow/10, pipe_size/10)\n",
    "re_n = (pipe_size/10) * 0.0254 * ans[0] * ans[1] / ans[2]\n",
    "target = re_n/re\n",
    "target"
   ]
  },
  {
   "cell_type": "code",
   "execution_count": null,
   "metadata": {},
   "outputs": [],
   "source": [
    "cp.PropsSI('Q', 'T', 100+273.15, 'P', 101518, 'Water')\n"
   ]
  }
 ],
 "metadata": {
  "kernelspec": {
   "display_name": "Python 3",
   "language": "python",
   "name": "python3"
  },
  "language_info": {
   "codemirror_mode": {
    "name": "ipython",
    "version": 3
   },
   "file_extension": ".py",
   "mimetype": "text/x-python",
   "name": "python",
   "nbconvert_exporter": "python",
   "pygments_lexer": "ipython3",
   "version": "3.10.8"
  },
  "orig_nbformat": 4,
  "vscode": {
   "interpreter": {
    "hash": "559ace3a43580f24d3b0afb83825b48f66df98e265f78a71c1931525a081c6dc"
   }
  }
 },
 "nbformat": 4,
 "nbformat_minor": 2
}
