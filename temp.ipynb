{
 "cells": [
  {
   "cell_type": "code",
   "execution_count": null,
   "metadata": {},
   "outputs": [],
   "source": [
    "import numpy as np"
   ]
  },
  {
   "cell_type": "code",
   "execution_count": null,
   "metadata": {},
   "outputs": [],
   "source": [
    "bl = 200.0\n",
    "dia = 500.0\n",
    "fbl = 0\n",
    "rbl = 0\n",
    "ld_ratio = 0\n",
    "i=0\n",
    "len=0\n",
    "t = fbl + rbl - 2*bl \n",
    "#for i in range(0,30):\n",
    "while ld_ratio<=10 and len<15:\n",
    "    print(\"BL = %5.3f  tube length = %5.3f and no of baffles %2d with L/D = %5.3f\" %(bl, len, 2*i, ld_ratio))\n",
    "    len = (bl*2*i+t)/1000\n",
    "    ld_ratio = len*1000/dia\n",
    "    i=i+1"
   ]
  },
  {
   "cell_type": "code",
   "execution_count": null,
   "metadata": {},
   "outputs": [],
   "source": [
    "do=19.05\n",
    "multipiler = 1.25\n",
    "pitch=do*multipiler\n",
    "i=0\n",
    "\n",
    "while multipiler<=1.67:\n",
    "    print(\"pitch for \",do,\" is \",pitch+(i*0.0625), \" and multipiler is %4.3f\" %(multipiler))\n",
    "    multipiler = (pitch+(i*0.0625))/do\n",
    "    i=i+1"
   ]
  }
 ],
 "metadata": {
  "kernelspec": {
   "display_name": "Python 3.10.8 64-bit",
   "language": "python",
   "name": "python3"
  },
  "language_info": {
   "codemirror_mode": {
    "name": "ipython",
    "version": 3
   },
   "file_extension": ".py",
   "mimetype": "text/x-python",
   "name": "python",
   "nbconvert_exporter": "python",
   "pygments_lexer": "ipython3",
   "version": "3.10.8"
  },
  "orig_nbformat": 4,
  "vscode": {
   "interpreter": {
    "hash": "559ace3a43580f24d3b0afb83825b48f66df98e265f78a71c1931525a081c6dc"
   }
  }
 },
 "nbformat": 4,
 "nbformat_minor": 2
}
