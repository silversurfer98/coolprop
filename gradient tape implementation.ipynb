{
 "cells": [
  {
   "cell_type": "code",
   "execution_count": 1,
   "metadata": {},
   "outputs": [],
   "source": [
    "import tensorflow as tf\n",
    "import numpy as np"
   ]
  },
  {
   "cell_type": "code",
   "execution_count": 7,
   "metadata": {},
   "outputs": [],
   "source": [
    "C1 = 73.649\n",
    "C2 = -7258.2\n",
    "C3 = -7.3037\n",
    "C4 = 4.17E-06\n",
    "C5 = 2"
   ]
  },
  {
   "cell_type": "code",
   "execution_count": 91,
   "metadata": {},
   "outputs": [],
   "source": [
    "def f(P, T):\n",
    "    return P - np.exp(C1+(C2/T)+(C3*np.log(T))+(C4*(T**C5)))\n",
    "\n",
    "\n",
    "def d(P, Temp):\n",
    "    T = tf.Variable(Temp)\n",
    "    with tf.GradientTape(persistent=False) as tape:\n",
    "        y = P - tf.exp(C1+(C2/T)+(C3*tf.math.log(T))+(C4*(T**C5)))\n",
    "    dy_dx = tape.gradient(y, T)\n",
    "    return dy_dx"
   ]
  },
  {
   "cell_type": "code",
   "execution_count": 92,
   "metadata": {},
   "outputs": [
    {
     "name": "stdout",
     "output_type": "stream",
     "text": [
      "\n",
      "258.76433823057835\n"
     ]
    }
   ],
   "source": [
    "t_old = 350.0\n",
    "t_new = 0.0\n",
    "error = 1.0\n",
    "\n",
    "P = 4601325.0\n",
    "\n",
    "print()\n",
    "while error>=0.000001:\n",
    "    t_new = t_old - f(P, t_old)/d(P, t_old).numpy()\n",
    "    error = abs(t_old - t_new)\n",
    "    t_old = t_new\n",
    "\n",
    "print(t_old - 273.15)"
   ]
  },
  {
   "cell_type": "code",
   "execution_count": 86,
   "metadata": {},
   "outputs": [
    {
     "data": {
      "text/plain": [
       "<tf.Tensor: shape=(), dtype=float32, numpy=1721.0325>"
      ]
     },
     "execution_count": 86,
     "metadata": {},
     "output_type": "execute_result"
    }
   ],
   "source": [
    "T = tf.Variable(350.0)\n",
    "with tf.GradientTape(persistent=True) as tape:\n",
    "    y = tf.exp(C1+(C2/T)+(C3*tf.math.log(T))+(C4*(T**C5)))\n",
    "T.assign(300.0)\n",
    "tape.gradient(y, T)"
   ]
  }
 ],
 "metadata": {
  "kernelspec": {
   "display_name": "Python 3",
   "language": "python",
   "name": "python3"
  },
  "language_info": {
   "codemirror_mode": {
    "name": "ipython",
    "version": 3
   },
   "file_extension": ".py",
   "mimetype": "text/x-python",
   "name": "python",
   "nbconvert_exporter": "python",
   "pygments_lexer": "ipython3",
   "version": "3.10.8"
  },
  "orig_nbformat": 4,
  "vscode": {
   "interpreter": {
    "hash": "559ace3a43580f24d3b0afb83825b48f66df98e265f78a71c1931525a081c6dc"
   }
  }
 },
 "nbformat": 4,
 "nbformat_minor": 2
}
